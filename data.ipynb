{
 "cells": [
  {
   "cell_type": "code",
   "execution_count": 1,
   "metadata": {},
   "outputs": [],
   "source": [
    "import pandas as pd"
   ]
  },
  {
   "cell_type": "code",
   "execution_count": 3,
   "metadata": {},
   "outputs": [],
   "source": [
    "from glob import glob"
   ]
  },
  {
   "cell_type": "code",
   "execution_count": 9,
   "metadata": {},
   "outputs": [],
   "source": [
    "from glob import iglob"
   ]
  },
  {
   "cell_type": "code",
   "execution_count": 2,
   "metadata": {},
   "outputs": [
    {
     "data": {
      "text/plain": [
       "'/Users/Islam.Elkadi@ibm.com/Desktop/MyStuff/projects/botnet_detection'"
      ]
     },
     "execution_count": 2,
     "metadata": {},
     "output_type": "execute_result"
    }
   ],
   "source": [
    "pwd"
   ]
  },
  {
   "cell_type": "code",
   "execution_count": 5,
   "metadata": {},
   "outputs": [],
   "source": [
    "data = pd.concat([pd.read_csv(name) for name in glob(\"./data/benign/*.csv\")], ignore_index = True)"
   ]
  },
  {
   "cell_type": "code",
   "execution_count": 6,
   "metadata": {},
   "outputs": [],
   "source": [
    "data.to_csv(\"merged_benign.csv\", index = False)"
   ]
  },
  {
   "cell_type": "code",
   "execution_count": 8,
   "metadata": {},
   "outputs": [
    {
     "data": {
      "text/plain": [
       "(555932, 115)"
      ]
     },
     "execution_count": 8,
     "metadata": {},
     "output_type": "execute_result"
    }
   ],
   "source": [
    "data.shape"
   ]
  },
  {
   "cell_type": "code",
   "execution_count": 26,
   "metadata": {},
   "outputs": [],
   "source": [
    "data[\"anomaly\"]=0"
   ]
  },
  {
   "cell_type": "code",
   "execution_count": 13,
   "metadata": {},
   "outputs": [],
   "source": [
    "df_mirai = pd.concat((pd.read_csv(f) for f in iglob('./data/mirai/**/*.csv', recursive=True)), ignore_index=True)"
   ]
  },
  {
   "cell_type": "code",
   "execution_count": 14,
   "metadata": {},
   "outputs": [
    {
     "data": {
      "text/plain": [
       "(3668402, 115)"
      ]
     },
     "execution_count": 14,
     "metadata": {},
     "output_type": "execute_result"
    }
   ],
   "source": [
    "df_mirai.shape"
   ]
  },
  {
   "cell_type": "code",
   "execution_count": 27,
   "metadata": {},
   "outputs": [],
   "source": [
    "df_mirai[\"anomaly\"]=1"
   ]
  },
  {
   "cell_type": "code",
   "execution_count": 17,
   "metadata": {},
   "outputs": [],
   "source": [
    "df_mirai.to_csv(\"merged_mirai.csv\", index = False)"
   ]
  },
  {
   "cell_type": "code",
   "execution_count": 15,
   "metadata": {},
   "outputs": [],
   "source": [
    "df_gafgyt = pd.concat((pd.read_csv(f) for f in iglob('./data/gafgyt/**/*.csv', recursive=True)), ignore_index=True)"
   ]
  },
  {
   "cell_type": "code",
   "execution_count": 16,
   "metadata": {},
   "outputs": [
    {
     "data": {
      "text/plain": [
       "(2838060, 115)"
      ]
     },
     "execution_count": 16,
     "metadata": {},
     "output_type": "execute_result"
    }
   ],
   "source": [
    "df_gafgyt.shape"
   ]
  },
  {
   "cell_type": "code",
   "execution_count": 28,
   "metadata": {},
   "outputs": [],
   "source": [
    "df_gafgyt[\"anomaly\"]=1"
   ]
  },
  {
   "cell_type": "code",
   "execution_count": 18,
   "metadata": {},
   "outputs": [],
   "source": [
    "df_gafgyt.to_csv(\"merged_malicious.csv\", index = False)"
   ]
  },
  {
   "cell_type": "code",
   "execution_count": 22,
   "metadata": {},
   "outputs": [
    {
     "data": {
      "text/plain": [
       "['./data/gafgyt/gafgyt_attacks(8)/scan.csv',\n",
       " './data/gafgyt/gafgyt_attacks(8)/tcp.csv',\n",
       " './data/gafgyt/gafgyt_attacks(8)/udp.csv',\n",
       " './data/gafgyt/gafgyt_attacks(8)/junk.csv',\n",
       " './data/gafgyt/gafgyt_attacks(8)/combo.csv',\n",
       " './data/gafgyt/gafgyt_attacks(2)/scan.csv',\n",
       " './data/gafgyt/gafgyt_attacks(2)/tcp.csv',\n",
       " './data/gafgyt/gafgyt_attacks(2)/udp.csv',\n",
       " './data/gafgyt/gafgyt_attacks(2)/junk.csv',\n",
       " './data/gafgyt/gafgyt_attacks(2)/combo.csv',\n",
       " './data/gafgyt/gafgyt_attacks(1)/scan.csv',\n",
       " './data/gafgyt/gafgyt_attacks(1)/tcp.csv',\n",
       " './data/gafgyt/gafgyt_attacks(1)/udp.csv',\n",
       " './data/gafgyt/gafgyt_attacks(1)/junk.csv',\n",
       " './data/gafgyt/gafgyt_attacks(1)/combo.csv',\n",
       " './data/gafgyt/gafgyt_attacks(5)/scan.csv',\n",
       " './data/gafgyt/gafgyt_attacks(5)/tcp.csv',\n",
       " './data/gafgyt/gafgyt_attacks(5)/udp.csv',\n",
       " './data/gafgyt/gafgyt_attacks(5)/junk.csv',\n",
       " './data/gafgyt/gafgyt_attacks(5)/combo.csv',\n",
       " './data/gafgyt/gafgyt_attacks(6)/scan.csv',\n",
       " './data/gafgyt/gafgyt_attacks(6)/tcp.csv',\n",
       " './data/gafgyt/gafgyt_attacks(6)/udp.csv',\n",
       " './data/gafgyt/gafgyt_attacks(6)/junk.csv',\n",
       " './data/gafgyt/gafgyt_attacks(6)/combo.csv',\n",
       " './data/gafgyt/gafgyt_attacks/scan.csv',\n",
       " './data/gafgyt/gafgyt_attacks/tcp.csv',\n",
       " './data/gafgyt/gafgyt_attacks/udp.csv',\n",
       " './data/gafgyt/gafgyt_attacks/junk.csv',\n",
       " './data/gafgyt/gafgyt_attacks/combo.csv',\n",
       " './data/gafgyt/gafgyt_attacks(7)/scan.csv',\n",
       " './data/gafgyt/gafgyt_attacks(7)/tcp.csv',\n",
       " './data/gafgyt/gafgyt_attacks(7)/udp.csv',\n",
       " './data/gafgyt/gafgyt_attacks(7)/junk.csv',\n",
       " './data/gafgyt/gafgyt_attacks(7)/combo.csv',\n",
       " './data/gafgyt/gafgyt_attacks(4)/scan.csv',\n",
       " './data/gafgyt/gafgyt_attacks(4)/tcp.csv',\n",
       " './data/gafgyt/gafgyt_attacks(4)/udp.csv',\n",
       " './data/gafgyt/gafgyt_attacks(4)/junk.csv',\n",
       " './data/gafgyt/gafgyt_attacks(4)/combo.csv',\n",
       " './data/gafgyt/gafgyt_attacks(3)/scan.csv',\n",
       " './data/gafgyt/gafgyt_attacks(3)/tcp.csv',\n",
       " './data/gafgyt/gafgyt_attacks(3)/udp.csv',\n",
       " './data/gafgyt/gafgyt_attacks(3)/junk.csv',\n",
       " './data/gafgyt/gafgyt_attacks(3)/combo.csv']"
      ]
     },
     "execution_count": 22,
     "metadata": {},
     "output_type": "execute_result"
    }
   ],
   "source": [
    "list(iglob('./data/gafgyt/**/*.csv', recursive=True))"
   ]
  },
  {
   "cell_type": "code",
   "execution_count": 29,
   "metadata": {},
   "outputs": [],
   "source": [
    "dataset = pd.concat([data, df_mirai, df_gafgyt], ignore_index=True)"
   ]
  },
  {
   "cell_type": "code",
   "execution_count": 31,
   "metadata": {},
   "outputs": [
    {
     "data": {
      "text/html": [
       "<div>\n",
       "<style scoped>\n",
       "    .dataframe tbody tr th:only-of-type {\n",
       "        vertical-align: middle;\n",
       "    }\n",
       "\n",
       "    .dataframe tbody tr th {\n",
       "        vertical-align: top;\n",
       "    }\n",
       "\n",
       "    .dataframe thead th {\n",
       "        text-align: right;\n",
       "    }\n",
       "</style>\n",
       "<table border=\"1\" class=\"dataframe\">\n",
       "  <thead>\n",
       "    <tr style=\"text-align: right;\">\n",
       "      <th></th>\n",
       "      <th>MI_dir_L5_weight</th>\n",
       "      <th>MI_dir_L5_mean</th>\n",
       "      <th>MI_dir_L5_variance</th>\n",
       "      <th>MI_dir_L3_weight</th>\n",
       "      <th>MI_dir_L3_mean</th>\n",
       "      <th>MI_dir_L3_variance</th>\n",
       "      <th>MI_dir_L1_weight</th>\n",
       "      <th>MI_dir_L1_mean</th>\n",
       "      <th>MI_dir_L1_variance</th>\n",
       "      <th>MI_dir_L0.1_weight</th>\n",
       "      <th>...</th>\n",
       "      <th>HpHp_L0.1_covariance</th>\n",
       "      <th>HpHp_L0.1_pcc</th>\n",
       "      <th>HpHp_L0.01_weight</th>\n",
       "      <th>HpHp_L0.01_mean</th>\n",
       "      <th>HpHp_L0.01_std</th>\n",
       "      <th>HpHp_L0.01_magnitude</th>\n",
       "      <th>HpHp_L0.01_radius</th>\n",
       "      <th>HpHp_L0.01_covariance</th>\n",
       "      <th>HpHp_L0.01_pcc</th>\n",
       "      <th>anomaly</th>\n",
       "    </tr>\n",
       "  </thead>\n",
       "  <tbody>\n",
       "    <tr>\n",
       "      <th>7062389</th>\n",
       "      <td>177.752623</td>\n",
       "      <td>74.110077</td>\n",
       "      <td>2.629841</td>\n",
       "      <td>284.834641</td>\n",
       "      <td>74.083148</td>\n",
       "      <td>2.071883</td>\n",
       "      <td>816.750374</td>\n",
       "      <td>74.150614</td>\n",
       "      <td>83.632090</td>\n",
       "      <td>7882.928638</td>\n",
       "      <td>...</td>\n",
       "      <td>0.000000e+00</td>\n",
       "      <td>0.000000e+00</td>\n",
       "      <td>2.142319</td>\n",
       "      <td>74.0</td>\n",
       "      <td>9.536743e-07</td>\n",
       "      <td>95.268043</td>\n",
       "      <td>9.094947e-13</td>\n",
       "      <td>0.000000e+00</td>\n",
       "      <td>0.000000e+00</td>\n",
       "      <td>1</td>\n",
       "    </tr>\n",
       "    <tr>\n",
       "      <th>7062390</th>\n",
       "      <td>178.061449</td>\n",
       "      <td>74.109458</td>\n",
       "      <td>2.615139</td>\n",
       "      <td>285.169592</td>\n",
       "      <td>74.082857</td>\n",
       "      <td>2.064642</td>\n",
       "      <td>817.114213</td>\n",
       "      <td>74.150430</td>\n",
       "      <td>83.529767</td>\n",
       "      <td>7883.314426</td>\n",
       "      <td>...</td>\n",
       "      <td>0.000000e+00</td>\n",
       "      <td>0.000000e+00</td>\n",
       "      <td>2.142311</td>\n",
       "      <td>74.0</td>\n",
       "      <td>0.000000e+00</td>\n",
       "      <td>95.268043</td>\n",
       "      <td>9.094947e-13</td>\n",
       "      <td>0.000000e+00</td>\n",
       "      <td>0.000000e+00</td>\n",
       "      <td>1</td>\n",
       "    </tr>\n",
       "    <tr>\n",
       "      <th>7062391</th>\n",
       "      <td>177.322370</td>\n",
       "      <td>74.108841</td>\n",
       "      <td>2.600458</td>\n",
       "      <td>284.495207</td>\n",
       "      <td>74.082566</td>\n",
       "      <td>2.057409</td>\n",
       "      <td>816.511833</td>\n",
       "      <td>74.150245</td>\n",
       "      <td>83.427494</td>\n",
       "      <td>7882.767124</td>\n",
       "      <td>...</td>\n",
       "      <td>0.000000e+00</td>\n",
       "      <td>0.000000e+00</td>\n",
       "      <td>2.142291</td>\n",
       "      <td>74.0</td>\n",
       "      <td>9.536743e-07</td>\n",
       "      <td>95.268043</td>\n",
       "      <td>1.016846e-12</td>\n",
       "      <td>0.000000e+00</td>\n",
       "      <td>0.000000e+00</td>\n",
       "      <td>1</td>\n",
       "    </tr>\n",
       "    <tr>\n",
       "      <th>7062392</th>\n",
       "      <td>178.316216</td>\n",
       "      <td>74.108231</td>\n",
       "      <td>2.585941</td>\n",
       "      <td>285.489283</td>\n",
       "      <td>74.082276</td>\n",
       "      <td>2.050226</td>\n",
       "      <td>817.506166</td>\n",
       "      <td>74.150062</td>\n",
       "      <td>83.325470</td>\n",
       "      <td>7883.761653</td>\n",
       "      <td>...</td>\n",
       "      <td>-3.919947e-30</td>\n",
       "      <td>-4.310027e-18</td>\n",
       "      <td>2.142291</td>\n",
       "      <td>74.0</td>\n",
       "      <td>9.536743e-07</td>\n",
       "      <td>95.268043</td>\n",
       "      <td>1.286220e-12</td>\n",
       "      <td>-4.162173e-29</td>\n",
       "      <td>-4.576357e-17</td>\n",
       "      <td>1</td>\n",
       "    </tr>\n",
       "    <tr>\n",
       "      <th>7062393</th>\n",
       "      <td>178.831091</td>\n",
       "      <td>74.107625</td>\n",
       "      <td>2.571546</td>\n",
       "      <td>286.023010</td>\n",
       "      <td>74.081989</td>\n",
       "      <td>2.043081</td>\n",
       "      <td>818.060861</td>\n",
       "      <td>74.149878</td>\n",
       "      <td>83.223640</td>\n",
       "      <td>7884.332110</td>\n",
       "      <td>...</td>\n",
       "      <td>7.921258e-32</td>\n",
       "      <td>0.000000e+00</td>\n",
       "      <td>2.142291</td>\n",
       "      <td>74.0</td>\n",
       "      <td>1.348699e-06</td>\n",
       "      <td>95.268043</td>\n",
       "      <td>2.033692e-12</td>\n",
       "      <td>-4.162166e-29</td>\n",
       "      <td>-3.235968e-17</td>\n",
       "      <td>1</td>\n",
       "    </tr>\n",
       "  </tbody>\n",
       "</table>\n",
       "<p>5 rows × 116 columns</p>\n",
       "</div>"
      ],
      "text/plain": [
       "         MI_dir_L5_weight  MI_dir_L5_mean  MI_dir_L5_variance  \\\n",
       "7062389        177.752623       74.110077            2.629841   \n",
       "7062390        178.061449       74.109458            2.615139   \n",
       "7062391        177.322370       74.108841            2.600458   \n",
       "7062392        178.316216       74.108231            2.585941   \n",
       "7062393        178.831091       74.107625            2.571546   \n",
       "\n",
       "         MI_dir_L3_weight  MI_dir_L3_mean  MI_dir_L3_variance  \\\n",
       "7062389        284.834641       74.083148            2.071883   \n",
       "7062390        285.169592       74.082857            2.064642   \n",
       "7062391        284.495207       74.082566            2.057409   \n",
       "7062392        285.489283       74.082276            2.050226   \n",
       "7062393        286.023010       74.081989            2.043081   \n",
       "\n",
       "         MI_dir_L1_weight  MI_dir_L1_mean  MI_dir_L1_variance  \\\n",
       "7062389        816.750374       74.150614           83.632090   \n",
       "7062390        817.114213       74.150430           83.529767   \n",
       "7062391        816.511833       74.150245           83.427494   \n",
       "7062392        817.506166       74.150062           83.325470   \n",
       "7062393        818.060861       74.149878           83.223640   \n",
       "\n",
       "         MI_dir_L0.1_weight  ...  HpHp_L0.1_covariance  HpHp_L0.1_pcc  \\\n",
       "7062389         7882.928638  ...          0.000000e+00   0.000000e+00   \n",
       "7062390         7883.314426  ...          0.000000e+00   0.000000e+00   \n",
       "7062391         7882.767124  ...          0.000000e+00   0.000000e+00   \n",
       "7062392         7883.761653  ...         -3.919947e-30  -4.310027e-18   \n",
       "7062393         7884.332110  ...          7.921258e-32   0.000000e+00   \n",
       "\n",
       "         HpHp_L0.01_weight  HpHp_L0.01_mean  HpHp_L0.01_std  \\\n",
       "7062389           2.142319             74.0    9.536743e-07   \n",
       "7062390           2.142311             74.0    0.000000e+00   \n",
       "7062391           2.142291             74.0    9.536743e-07   \n",
       "7062392           2.142291             74.0    9.536743e-07   \n",
       "7062393           2.142291             74.0    1.348699e-06   \n",
       "\n",
       "         HpHp_L0.01_magnitude  HpHp_L0.01_radius  HpHp_L0.01_covariance  \\\n",
       "7062389             95.268043       9.094947e-13           0.000000e+00   \n",
       "7062390             95.268043       9.094947e-13           0.000000e+00   \n",
       "7062391             95.268043       1.016846e-12           0.000000e+00   \n",
       "7062392             95.268043       1.286220e-12          -4.162173e-29   \n",
       "7062393             95.268043       2.033692e-12          -4.162166e-29   \n",
       "\n",
       "         HpHp_L0.01_pcc  anomaly  \n",
       "7062389    0.000000e+00        1  \n",
       "7062390    0.000000e+00        1  \n",
       "7062391    0.000000e+00        1  \n",
       "7062392   -4.576357e-17        1  \n",
       "7062393   -3.235968e-17        1  \n",
       "\n",
       "[5 rows x 116 columns]"
      ]
     },
     "execution_count": 31,
     "metadata": {},
     "output_type": "execute_result"
    }
   ],
   "source": [
    "dataset.tail()"
   ]
  },
  {
   "cell_type": "code",
   "execution_count": 33,
   "metadata": {},
   "outputs": [],
   "source": [
    "dataset.to_csv(\"dataset.csv\")"
   ]
  },
  {
   "cell_type": "code",
   "execution_count": null,
   "metadata": {},
   "outputs": [],
   "source": []
  }
 ],
 "metadata": {
  "kernelspec": {
   "display_name": "Python 3",
   "language": "python",
   "name": "python3"
  },
  "language_info": {
   "codemirror_mode": {
    "name": "ipython",
    "version": 3
   },
   "file_extension": ".py",
   "mimetype": "text/x-python",
   "name": "python",
   "nbconvert_exporter": "python",
   "pygments_lexer": "ipython3",
   "version": "3.6.8"
  }
 },
 "nbformat": 4,
 "nbformat_minor": 2
}
